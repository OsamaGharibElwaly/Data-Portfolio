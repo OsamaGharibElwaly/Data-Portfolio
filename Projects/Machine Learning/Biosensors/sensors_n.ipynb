{
 "cells": [
  {
   "cell_type": "code",
   "execution_count": 17,
   "metadata": {},
   "outputs": [],
   "source": [
    "import pandas as pd\n",
    "import numpy as np\n",
    "from sklearn.utils import resample"
   ]
  },
  {
   "cell_type": "code",
   "execution_count": 19,
   "metadata": {},
   "outputs": [
    {
     "name": "stdout",
     "output_type": "stream",
     "text": [
      "✅ Balanced dataset with exactly 5000 rows saved as 'balanced_sensor_data.csv'.\n"
     ]
    }
   ],
   "source": [
    "# Age Group Mapping (Months & Years)\n",
    "age_groups = {\n",
    "    \"Premie\": (0, 0),\n",
    "    \"0-3 mo\": (0, 3),\n",
    "    \"3-6 mo\": (3, 6),\n",
    "    \"6-12 mo\": (6, 12),\n",
    "    \"1-3 yr\": (12, 36),\n",
    "    \"3-6 yr\": (36, 72),\n",
    "    \"6-12 yr\": (72, 144),\n",
    "    \">12 yr\": (144, float('inf'))\n",
    "}\n",
    "\n",
    "# Pediatric vital sign ranges\n",
    "normal_ranges = {\n",
    "    \"Premie\": {\"HR\": (120, 170), \"Temp\": (36.1, 37.5), \"Oxygen\": (94, 100)},\n",
    "    \"0-3 mo\": {\"HR\": (100, 150), \"Temp\": (36.1, 37.5), \"Oxygen\": (94, 100)},\n",
    "    \"3-6 mo\": {\"HR\": (90, 120), \"Temp\": (36.1, 37.5), \"Oxygen\": (94, 100)},\n",
    "    \"6-12 mo\": {\"HR\": (80, 120), \"Temp\": (36.1, 37.5), \"Oxygen\": (94, 100)},\n",
    "    \"1-3 yr\": {\"HR\": (70, 110), \"Temp\": (36.1, 37.5), \"Oxygen\": (94, 100)},\n",
    "    \"3-6 yr\": {\"HR\": (65, 110), \"Temp\": (36.1, 37.5), \"Oxygen\": (94, 100)},\n",
    "    \"6-12 yr\": {\"HR\": (60, 95), \"Temp\": (36.1, 37.5), \"Oxygen\": (94, 100)},\n",
    "    \">12 yr\": {\"HR\": (55, 85), \"Temp\": (36.1, 37.5), \"Oxygen\": (94, 100)}\n",
    "}\n",
    "\n",
    "# Function to map exact age to the correct age group\n",
    "def map_age_group(age_months):\n",
    "    for group, (min_age, max_age) in age_groups.items():\n",
    "        if min_age <= age_months < max_age:\n",
    "            return group\n",
    "    return \">12 yr\"\n",
    "\n",
    "# Function to classify health status based on mapped age group\n",
    "def classify_health_status(row):\n",
    "    age_group = map_age_group(row[\"Age_Months\"])\n",
    "    ranges = normal_ranges[age_group]\n",
    "\n",
    "    if (row[\"Heart_Rate_BPM\"] < ranges[\"HR\"][0] or row[\"Heart_Rate_BPM\"] > ranges[\"HR\"][1] or\n",
    "        row[\"Body_Temperature_C\"] < ranges[\"Temp\"][0] or row[\"Body_Temperature_C\"] > ranges[\"Temp\"][1] or\n",
    "        row[\"Oxygen_Level\"] < ranges[\"Oxygen\"][0] or row[\"Oxygen_Level\"] > ranges[\"Oxygen\"][1]):\n",
    "        return \"Abnormal\"\n",
    "\n",
    "    return \"Normal\"\n",
    "\n",
    "# Generate 5000 samples\n",
    "np.random.seed(42)\n",
    "sample_size = 5000\n",
    "\n",
    "original_data = pd.DataFrame({\n",
    "    \"Age_Months\": np.random.randint(0, 200, sample_size),\n",
    "    \"Heart_Rate_BPM\": np.random.randint(50, 180, sample_size),\n",
    "    \"Body_Temperature_C\": np.round(np.random.uniform(35, 40, sample_size), 1),\n",
    "    \"Oxygen_Level\": np.random.randint(85, 100, sample_size)\n",
    "})\n",
    "\n",
    "# Apply health classification\n",
    "original_data[\"Health_Status\"] = original_data.apply(classify_health_status, axis=1)\n",
    "\n",
    "# Balance Dataset (Oversample if needed)\n",
    "normal_count = (original_data[\"Health_Status\"] == \"Normal\").sum()\n",
    "abnormal_count = (original_data[\"Health_Status\"] == \"Abnormal\").sum()\n",
    "\n",
    "if normal_count > abnormal_count:\n",
    "    abnormal_data = resample(original_data[original_data[\"Health_Status\"] == \"Abnormal\"],\n",
    "                             replace=True, n_samples=normal_count, random_state=42)\n",
    "    balanced_data = pd.concat([original_data[original_data[\"Health_Status\"] == \"Normal\"], abnormal_data])\n",
    "elif abnormal_count > normal_count:\n",
    "    normal_data = resample(original_data[original_data[\"Health_Status\"] == \"Normal\"],\n",
    "                           replace=True, n_samples=abnormal_count, random_state=42)\n",
    "    balanced_data = pd.concat([original_data[original_data[\"Health_Status\"] == \"Abnormal\"], normal_data])\n",
    "else:\n",
    "    balanced_data = original_data  # Already balanced\n",
    "\n",
    "# Ensure exactly 5000 rows\n",
    "balanced_data = balanced_data.sample(n=5000, replace=True, random_state=42).reset_index(drop=True)\n",
    "\n",
    "# Save dataset\n",
    "balanced_data.to_csv(\"balanced_sensor_data.csv\", index=False)\n",
    "\n",
    "print(\"✅ Balanced dataset with exactly 5000 rows saved as 'balanced_sensor_data.csv'.\")"
   ]
  }
 ],
 "metadata": {
  "kernelspec": {
   "display_name": "Python 3",
   "language": "python",
   "name": "python3"
  },
  "language_info": {
   "codemirror_mode": {
    "name": "ipython",
    "version": 3
   },
   "file_extension": ".py",
   "mimetype": "text/x-python",
   "name": "python",
   "nbconvert_exporter": "python",
   "pygments_lexer": "ipython3",
   "version": "3.12.2"
  }
 },
 "nbformat": 4,
 "nbformat_minor": 2
}
